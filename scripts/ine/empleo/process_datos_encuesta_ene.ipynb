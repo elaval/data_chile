{
 "cells": [
  {
   "cell_type": "code",
   "execution_count": 1,
   "id": "551442d2",
   "metadata": {},
   "outputs": [],
   "source": [
    "import os\n",
    "import sys\n",
    "import pandas as pd\n",
    "import requests\n",
    "from collections import defaultdict"
   ]
  },
  {
   "cell_type": "code",
   "execution_count": 2,
   "id": "b382eb70",
   "metadata": {},
   "outputs": [],
   "source": [
    "# Check if running in the GitHub Actions environment\n",
    "if 'GITHUB_ACTIONS' in os.environ:\n",
    "    project_path = os.getcwd()\n",
    "else:\n",
    "    # Assuming your script is in the 'scripts' directory\n",
    "    project_path = os.path.abspath(os.path.join(os.getcwd(), '../../..'))\n",
    "\n",
    "# Add the project directory to the PYTHONPATH if it's not already there\n",
    "if project_path not in sys.path:\n",
    "    sys.path.append(project_path)\n",
    "\n",
    "# Now you can import your custom module\n",
    "from data_utils.data_processing import download_file, process_zip_file\n"
   ]
  },
  {
   "cell_type": "code",
   "execution_count": 3,
   "id": "269253ea",
   "metadata": {},
   "outputs": [],
   "source": [
    "from data_utils.data_processing import download_file, read_csv_file\n"
   ]
  },
  {
   "cell_type": "code",
   "execution_count": 4,
   "id": "075934ed",
   "metadata": {},
   "outputs": [],
   "source": [
    "def get_data_paths():\n",
    "    # Check if running in the GitHub Actions environment\n",
    "    if 'GITHUB_ACTIONS' in os.environ:\n",
    "        base_path = os.path.join(os.getcwd(), 'data')\n",
    "    else:\n",
    "        # Assuming your script is in the 'scripts' directory\n",
    "        base_path = os.path.abspath(os.path.join(os.getcwd(), '../../../data'))\n",
    "\n",
    "    source_path = os.path.join(base_path, \"source/ine/empleo\")\n",
    "    processed_path = os.path.join(base_path, \"processed/ine/empleo\")\n",
    "    \n",
    "    return source_path, processed_path\n"
   ]
  },
  {
   "cell_type": "code",
   "execution_count": 5,
   "id": "4c532b7d",
   "metadata": {},
   "outputs": [
    {
     "name": "stdout",
     "output_type": "stream",
     "text": [
      "Source dir: /Users/ernestolaval/Documents/Github Repositories/data_chile/data/source/ine/empleo\n",
      "Processed dir: /Users/ernestolaval/Documents/Github Repositories/data_chile/data/processed/ine/empleo\n"
     ]
    }
   ],
   "source": [
    "source_dir, processed_dir = get_data_paths()\n",
    "\n",
    "print(f\"Source dir: {source_dir}\")\n",
    "print(f\"Processed dir: {processed_dir}\")\n"
   ]
  },
  {
   "cell_type": "code",
   "execution_count": 6,
   "id": "f5ffb270",
   "metadata": {},
   "outputs": [],
   "source": [
    "os.makedirs(source_dir, exist_ok=True)\n",
    "os.makedirs(processed_dir, exist_ok=True)\n"
   ]
  },
  {
   "cell_type": "code",
   "execution_count": 9,
   "id": "bf4fd77c",
   "metadata": {},
   "outputs": [],
   "source": [
    "# List of file URLs\n",
    "file_urls = [\n",
    "    \"https://www.ine.gob.cl/docs/default-source/ocupacion-y-desocupacion/bbdd/2024/csv/ene-2024-04-mam.csv\",\n",
    "    \"https://www.ine.gob.cl/docs/default-source/ocupacion-y-desocupacion/bbdd/2024/csv/ene-2024-03-fma.csv\",\n",
    "    \"https://www.ine.gob.cl/docs/default-source/ocupacion-y-desocupacion/bbdd/2024/csv/ene-2024-02-efm.csv\",\n",
    "    \"https://www.ine.gob.cl/docs/default-source/ocupacion-y-desocupacion/bbdd/2024/csv/ene-2024-01-def.csv\",\n",
    "\n",
    "    \"https://www.ine.gob.cl/docs/default-source/ocupacion-y-desocupacion/bbdd/2023/csv/ene-2023-12-nde.csv\",\n",
    "    \"https://www.ine.gob.cl/docs/default-source/ocupacion-y-desocupacion/bbdd/2023/csv/ene-2023-11-ond.csv\",\n",
    "    \"https://www.ine.gob.cl/docs/default-source/ocupacion-y-desocupacion/bbdd/2023/csv/ene-2023-10-son.csv\",\n",
    "    \"https://www.ine.gob.cl/docs/default-source/ocupacion-y-desocupacion/bbdd/2023/csv/ene-2023-09-aso.csv\",\n",
    "    \"https://www.ine.gob.cl/docs/default-source/ocupacion-y-desocupacion/bbdd/2023/csv/ene-2023-08-jas.csv\",\n",
    "    \"https://www.ine.gob.cl/docs/default-source/ocupacion-y-desocupacion/bbdd/2023/csv/ene-2023-07-jja.csv\",\n",
    "    \"https://www.ine.gob.cl/docs/default-source/ocupacion-y-desocupacion/bbdd/2023/csv/ene-2023-06-mjj.csv\",\n",
    "    \"https://www.ine.gob.cl/docs/default-source/ocupacion-y-desocupacion/bbdd/2023/csv/ene-2023-05-amj.csv\",\n",
    "    \"https://www.ine.gob.cl/docs/default-source/ocupacion-y-desocupacion/bbdd/2023/csv/ene-2023-04-mam.csv\",\n",
    "    \"https://www.ine.gob.cl/docs/default-source/ocupacion-y-desocupacion/bbdd/2023/csv/ene-2023-03-fma.csv\",\n",
    "    \"https://www.ine.gob.cl/docs/default-source/ocupacion-y-desocupacion/bbdd/2023/csv/ene-2023-02-efm.csv\",\n",
    "    \"https://www.ine.gob.cl/docs/default-source/ocupacion-y-desocupacion/bbdd/2023/csv/ene-2023-01-def.csv\",\n",
    "\n",
    "    \"https://www.ine.gob.cl/docs/default-source/ocupacion-y-desocupacion/bbdd/2022/csv/ene-2022-04-mam.csv\",\n",
    "    \"https://www.ine.gob.cl/docs/default-source/ocupacion-y-desocupacion/bbdd/2022/csv/ene-2022-03-fma.csv\",\n",
    "    \"https://www.ine.gob.cl/docs/default-source/ocupacion-y-desocupacion/bbdd/2022/csv/ene-2022-02-efm.csv\",\n",
    "    \"https://www.ine.gob.cl/docs/default-source/ocupacion-y-desocupacion/bbdd/2022/csv/ene-2022-01-def.csv\",\n",
    "\n",
    "    \"https://www.ine.gob.cl/docs/default-source/ocupacion-y-desocupacion/bbdd/2021/csv/ene-2021-04-mam.csv\",\n",
    "    \"https://www.ine.gob.cl/docs/default-source/ocupacion-y-desocupacion/bbdd/2021/csv/ene-2021-03-fma.csv\",\n",
    "    \"https://www.ine.gob.cl/docs/default-source/ocupacion-y-desocupacion/bbdd/2021/csv/ene-2021-02-efm.csv\",\n",
    "    \"https://www.ine.gob.cl/docs/default-source/ocupacion-y-desocupacion/bbdd/2021/csv/ene-2021-01-def.csv\",\n",
    "\n",
    "    \"https://www.ine.gob.cl/docs/default-source/ocupacion-y-desocupacion/bbdd/2020/csv/ene-2020-04-mam.csv\",\n",
    "    \"https://www.ine.gob.cl/docs/default-source/ocupacion-y-desocupacion/bbdd/2020/csv/ene-2020-03-fma.csv\",\n",
    "    \"https://www.ine.gob.cl/docs/default-source/ocupacion-y-desocupacion/bbdd/2020/csv/ene-2020-02-efm.csv\",\n",
    "    \"https://www.ine.gob.cl/docs/default-source/ocupacion-y-desocupacion/bbdd/2020/csv/ene-2020-01-def.csv\",\n",
    "\n",
    "    \"https://www.ine.gob.cl/docs/default-source/ocupacion-y-desocupacion/bbdd/2019/csv/ene-2019-04-mam.csv\",\n",
    "    \"https://www.ine.gob.cl/docs/default-source/ocupacion-y-desocupacion/bbdd/2019/csv/ene-2019-03-fma.csv\",\n",
    "    \"https://www.ine.gob.cl/docs/default-source/ocupacion-y-desocupacion/bbdd/2019/csv/ene-2019-02-efm.csv\",\n",
    "    \"https://www.ine.gob.cl/docs/default-source/ocupacion-y-desocupacion/bbdd/2019/csv/ene-2019-01-def.csv\",\n",
    "    # Add more URLs as needed\n",
    "]\n"
   ]
  },
  {
   "cell_type": "code",
   "execution_count": 10,
   "id": "ea196d86",
   "metadata": {},
   "outputs": [],
   "source": [
    "delimiter = \";\"\n"
   ]
  },
  {
   "cell_type": "code",
   "execution_count": 11,
   "id": "ddd8b253",
   "metadata": {},
   "outputs": [],
   "source": [
    "# Function to preprocess the \"fact_cal\" field\n",
    "def preprocess_fact_cal(df):\n",
    "    if 'fact_cal' in df.columns:\n",
    "        df['fact_cal'] = df['fact_cal'].str.replace(',', '.').astype(float)\n",
    "    return df\n",
    "\n"
   ]
  },
  {
   "cell_type": "code",
   "execution_count": 12,
   "id": "e59e405b",
   "metadata": {},
   "outputs": [],
   "source": [
    "# Dictionary to store DataFrames for each trimester\n",
    "trimester_data = defaultdict(pd.DataFrame)\n"
   ]
  },
  {
   "cell_type": "code",
   "execution_count": 13,
   "id": "88522f21",
   "metadata": {},
   "outputs": [
    {
     "name": "stdout",
     "output_type": "stream",
     "text": [
      "Next https://www.ine.gob.cl/docs/default-source/ocupacion-y-desocupacion/bbdd/2024/csv/ene-2024-04-mam.csv\n",
      "ene-2024-04-mam.csv already exists. Skipping download.\n",
      "Detected encoding for /Users/ernestolaval/Documents/Github Repositories/data_chile/data/source/ine/empleo/ene-2024-04-mam.csv: utf-8\n",
      "Successfully read file with encoding utf-8\n",
      "Added ene-2024-04-mam.csv to the trimester 04-mam DataFrame.\n",
      "Next https://www.ine.gob.cl/docs/default-source/ocupacion-y-desocupacion/bbdd/2024/csv/ene-2024-03-fma.csv\n",
      "ene-2024-03-fma.csv already exists. Skipping download.\n",
      "Detected encoding for /Users/ernestolaval/Documents/Github Repositories/data_chile/data/source/ine/empleo/ene-2024-03-fma.csv: utf-8\n",
      "Successfully read file with encoding utf-8\n",
      "Added ene-2024-03-fma.csv to the trimester 03-fma DataFrame.\n",
      "Next https://www.ine.gob.cl/docs/default-source/ocupacion-y-desocupacion/bbdd/2024/csv/ene-2024-02-efm.csv\n",
      "Downloaded ene-2024-02-efm.csv\n",
      "Detected encoding for /Users/ernestolaval/Documents/Github Repositories/data_chile/data/source/ine/empleo/ene-2024-02-efm.csv: utf-8\n",
      "Successfully read file with encoding utf-8\n",
      "Added ene-2024-02-efm.csv to the trimester 02-efm DataFrame.\n",
      "Next https://www.ine.gob.cl/docs/default-source/ocupacion-y-desocupacion/bbdd/2024/csv/ene-2024-01-def.csv\n",
      "Downloaded ene-2024-01-def.csv\n",
      "Detected encoding for /Users/ernestolaval/Documents/Github Repositories/data_chile/data/source/ine/empleo/ene-2024-01-def.csv: utf-8\n",
      "Successfully read file with encoding utf-8\n",
      "Added ene-2024-01-def.csv to the trimester 01-def DataFrame.\n",
      "Next https://www.ine.gob.cl/docs/default-source/ocupacion-y-desocupacion/bbdd/2023/csv/ene-2023-04-mam.csv\n",
      "ene-2023-04-mam.csv already exists. Skipping download.\n",
      "Detected encoding for /Users/ernestolaval/Documents/Github Repositories/data_chile/data/source/ine/empleo/ene-2023-04-mam.csv: utf-8\n",
      "Successfully read file with encoding utf-8\n",
      "Added ene-2023-04-mam.csv to the trimester 04-mam DataFrame.\n",
      "Next https://www.ine.gob.cl/docs/default-source/ocupacion-y-desocupacion/bbdd/2023/csv/ene-2023-03-fma.csv\n",
      "ene-2023-03-fma.csv already exists. Skipping download.\n",
      "Detected encoding for /Users/ernestolaval/Documents/Github Repositories/data_chile/data/source/ine/empleo/ene-2023-03-fma.csv: utf-8\n",
      "Successfully read file with encoding utf-8\n",
      "Added ene-2023-03-fma.csv to the trimester 03-fma DataFrame.\n",
      "Next https://www.ine.gob.cl/docs/default-source/ocupacion-y-desocupacion/bbdd/2022/csv/ene-2022-04-mam.csv\n",
      "ene-2022-04-mam.csv already exists. Skipping download.\n",
      "Detected encoding for /Users/ernestolaval/Documents/Github Repositories/data_chile/data/source/ine/empleo/ene-2022-04-mam.csv: utf-8\n",
      "Successfully read file with encoding utf-8\n",
      "Added ene-2022-04-mam.csv to the trimester 04-mam DataFrame.\n",
      "Next https://www.ine.gob.cl/docs/default-source/ocupacion-y-desocupacion/bbdd/2022/csv/ene-2022-03-fma.csv\n",
      "ene-2022-03-fma.csv already exists. Skipping download.\n",
      "Detected encoding for /Users/ernestolaval/Documents/Github Repositories/data_chile/data/source/ine/empleo/ene-2022-03-fma.csv: utf-8\n",
      "Successfully read file with encoding utf-8\n",
      "Added ene-2022-03-fma.csv to the trimester 03-fma DataFrame.\n",
      "Next https://www.ine.gob.cl/docs/default-source/ocupacion-y-desocupacion/bbdd/2021/csv/ene-2021-04-mam.csv\n",
      "ene-2021-04-mam.csv already exists. Skipping download.\n",
      "Detected encoding for /Users/ernestolaval/Documents/Github Repositories/data_chile/data/source/ine/empleo/ene-2021-04-mam.csv: utf-8\n",
      "Error reading CSV file /Users/ernestolaval/Documents/Github Repositories/data_chile/data/source/ine/empleo/ene-2021-04-mam.csv with encoding utf-8, trying ISO-8859-1\n",
      "Successfully read file with encoding ISO-8859-1\n",
      "Added ene-2021-04-mam.csv to the trimester 04-mam DataFrame.\n",
      "Next https://www.ine.gob.cl/docs/default-source/ocupacion-y-desocupacion/bbdd/2021/csv/ene-2021-03-fma.csv\n",
      "ene-2021-03-fma.csv already exists. Skipping download.\n",
      "Detected encoding for /Users/ernestolaval/Documents/Github Repositories/data_chile/data/source/ine/empleo/ene-2021-03-fma.csv: utf-8\n",
      "Error reading CSV file /Users/ernestolaval/Documents/Github Repositories/data_chile/data/source/ine/empleo/ene-2021-03-fma.csv with encoding utf-8, trying ISO-8859-1\n",
      "Successfully read file with encoding ISO-8859-1\n",
      "Added ene-2021-03-fma.csv to the trimester 03-fma DataFrame.\n",
      "Next https://www.ine.gob.cl/docs/default-source/ocupacion-y-desocupacion/bbdd/2020/csv/ene-2020-04-mam.csv\n",
      "ene-2020-04-mam.csv already exists. Skipping download.\n",
      "Detected encoding for /Users/ernestolaval/Documents/Github Repositories/data_chile/data/source/ine/empleo/ene-2020-04-mam.csv: utf-8\n",
      "Successfully read file with encoding utf-8\n",
      "Added ene-2020-04-mam.csv to the trimester 04-mam DataFrame.\n",
      "Next https://www.ine.gob.cl/docs/default-source/ocupacion-y-desocupacion/bbdd/2020/csv/ene-2020-03-fma.csv\n",
      "ene-2020-03-fma.csv already exists. Skipping download.\n",
      "Detected encoding for /Users/ernestolaval/Documents/Github Repositories/data_chile/data/source/ine/empleo/ene-2020-03-fma.csv: utf-8\n",
      "Successfully read file with encoding utf-8\n",
      "Added ene-2020-03-fma.csv to the trimester 03-fma DataFrame.\n",
      "Next https://www.ine.gob.cl/docs/default-source/ocupacion-y-desocupacion/bbdd/2019/csv/ene-2019-04-mam.csv\n",
      "ene-2019-04-mam.csv already exists. Skipping download.\n",
      "Detected encoding for /Users/ernestolaval/Documents/Github Repositories/data_chile/data/source/ine/empleo/ene-2019-04-mam.csv: utf-8\n",
      "Error reading CSV file /Users/ernestolaval/Documents/Github Repositories/data_chile/data/source/ine/empleo/ene-2019-04-mam.csv with encoding utf-8, trying ISO-8859-1\n",
      "Successfully read file with encoding ISO-8859-1\n",
      "Added ene-2019-04-mam.csv to the trimester 04-mam DataFrame.\n",
      "Next https://www.ine.gob.cl/docs/default-source/ocupacion-y-desocupacion/bbdd/2019/csv/ene-2019-03-fma.csv\n",
      "ene-2019-03-fma.csv already exists. Skipping download.\n",
      "Detected encoding for /Users/ernestolaval/Documents/Github Repositories/data_chile/data/source/ine/empleo/ene-2019-03-fma.csv: utf-8\n",
      "Error reading CSV file /Users/ernestolaval/Documents/Github Repositories/data_chile/data/source/ine/empleo/ene-2019-03-fma.csv with encoding utf-8, trying ISO-8859-1\n",
      "Successfully read file with encoding ISO-8859-1\n",
      "Added ene-2019-03-fma.csv to the trimester 03-fma DataFrame.\n"
     ]
    }
   ],
   "source": [
    "# Download files and group by trimester\n",
    "for url in file_urls:\n",
    "    # Extract filename from URL\n",
    "    filename = url.split('/')[-1]\n",
    "    csv_path = os.path.join(source_dir, filename)\n",
    "    \n",
    "    print(f\"Next {url}\")\n",
    "    # Check if the file already exists\n",
    "    if not os.path.exists(csv_path):\n",
    "        # Download the CSV file if it doesn't exist\n",
    "        download_file(url, csv_path)\n",
    "        print(f\"Downloaded {filename}\")\n",
    "    else:\n",
    "        print(f\"{filename} already exists. Skipping download.\")\n",
    "    \n",
    "    # Read the CSV file\n",
    "    df = read_csv_file(csv_path, delimiter=delimiter)\n",
    "    \n",
    "    # Preprocess the \"fact_cal\" field\n",
    "    df = preprocess_fact_cal(df)\n",
    "    \n",
    "    # Extract trimester info (e.g., \"04-mam\" from \"ene-2024-04-mam.csv\")\n",
    "    trimester = '-'.join(filename.split('-')[2:4]).split('.')[0]\n",
    "    \n",
    "    # Append data to the corresponding trimester DataFrame\n",
    "    trimester_data[trimester] = pd.concat([trimester_data[trimester], df], ignore_index=True)\n",
    "    \n",
    "    print(f\"Added {filename} to the trimester {trimester} DataFrame.\")"
   ]
  },
  {
   "cell_type": "code",
   "execution_count": 14,
   "id": "c24ba5e3",
   "metadata": {},
   "outputs": [
    {
     "name": "stdout",
     "output_type": "stream",
     "text": [
      "Merged DataFrame for trimester 04-mam saved to /Users/ernestolaval/Documents/Github Repositories/data_chile/data/processed/ine/empleo/ene-04-mam.parquet\n",
      "Merged DataFrame for trimester 03-fma saved to /Users/ernestolaval/Documents/Github Repositories/data_chile/data/processed/ine/empleo/ene-03-fma.parquet\n",
      "Merged DataFrame for trimester 02-efm saved to /Users/ernestolaval/Documents/Github Repositories/data_chile/data/processed/ine/empleo/ene-02-efm.parquet\n",
      "Merged DataFrame for trimester 01-def saved to /Users/ernestolaval/Documents/Github Repositories/data_chile/data/processed/ine/empleo/ene-01-def.parquet\n"
     ]
    }
   ],
   "source": [
    "# Save each trimester DataFrame as a Parquet file\n",
    "for trimester, df in trimester_data.items():\n",
    "    processed_path = os.path.join(processed_dir, f\"ene-{trimester}.parquet\")\n",
    "    df.to_parquet(processed_path)\n",
    "    print(f\"Merged DataFrame for trimester {trimester} saved to {processed_path}\")\n"
   ]
  },
  {
   "cell_type": "code",
   "execution_count": null,
   "id": "2450e855",
   "metadata": {},
   "outputs": [],
   "source": []
  }
 ],
 "metadata": {
  "kernelspec": {
   "display_name": "Python 3 (ipykernel)",
   "language": "python",
   "name": "python3"
  },
  "language_info": {
   "codemirror_mode": {
    "name": "ipython",
    "version": 3
   },
   "file_extension": ".py",
   "mimetype": "text/x-python",
   "name": "python",
   "nbconvert_exporter": "python",
   "pygments_lexer": "ipython3",
   "version": "3.9.12"
  }
 },
 "nbformat": 4,
 "nbformat_minor": 5
}
