{
 "cells": [
  {
   "cell_type": "code",
   "execution_count": 10,
   "id": "17d9b4a8",
   "metadata": {},
   "outputs": [],
   "source": [
    "import pandas as pd\n",
    "import os"
   ]
  },
  {
   "cell_type": "code",
   "execution_count": 12,
   "id": "27628dc2",
   "metadata": {},
   "outputs": [],
   "source": [
    "# Function to read a file with a specified encoding and handle errors\n",
    "def read_csv_file(file_path, encoding='utf-8'):\n",
    "    try:\n",
    "        return pd.read_csv(file_path, sep=';', encoding=encoding)\n",
    "    except UnicodeDecodeError:\n",
    "        print(f\"Encoding error with {file_path}, trying ISO-8859-1\")\n",
    "        return pd.read_csv(file_path, sep=';', encoding='ISO-8859-1')"
   ]
  },
  {
   "cell_type": "code",
   "execution_count": 33,
   "id": "aaa31b86",
   "metadata": {},
   "outputs": [
    {
     "name": "stdout",
     "output_type": "stream",
     "text": [
      "Data path: /Users/ernestolaval/Documents/nodeJS/github/datos_abiertos/scripts/../raw/minsal/deis/\n"
     ]
    }
   ],
   "source": [
    "# Define the path to your CSV files \n",
    "\n",
    "# Check if running in the GitHub Actions environment\n",
    "if 'GITHUB_ACTIONS' in os.environ:\n",
    "    data_path = os.path.join(os.getcwd(), './raw/minsal/deis/')\n",
    "else:\n",
    "    # Assuming your notebook is in the 'scripts' directory\n",
    "    data_path = os.path.join(os.getcwd(), '../raw/minsal/deis/')\n",
    "\n",
    "print(f\"Data path: {data_path}\")\n",
    "\n",
    "path = data_path\n"
   ]
  },
  {
   "cell_type": "code",
   "execution_count": 34,
   "id": "ae7810bf",
   "metadata": {},
   "outputs": [],
   "source": [
    "delimiter = \";\""
   ]
  },
  {
   "cell_type": "code",
   "execution_count": 35,
   "id": "345032b0",
   "metadata": {},
   "outputs": [],
   "source": [
    "extension = \".csv\""
   ]
  },
  {
   "cell_type": "code",
   "execution_count": 36,
   "id": "6cec9ff5",
   "metadata": {},
   "outputs": [],
   "source": [
    "# Function to read a file with a specified encoding and handle errors\n",
    "def read_csv_file(file_path, encoding='utf-8'):\n",
    "    try:\n",
    "        return pd.read_csv(file_path, sep=delimiter, encoding=encoding,index_col=False, low_memory=False)\n",
    "    except UnicodeDecodeError:\n",
    "        print(f\"Encoding error with {file_path}, trying ISO-8859-1\")\n",
    "        return pd.read_csv(file_path, sep=delimiter,  encoding='ISO-8859-1',index_col=False, low_memory=False)\n"
   ]
  },
  {
   "cell_type": "code",
   "execution_count": 37,
   "id": "942847e8",
   "metadata": {},
   "outputs": [],
   "source": [
    "def convert_txt_to_parquet(file_path):\n",
    "    # Adjust the read_csv parameters according to the structure of your text files\n",
    "    df = read_csv_file(file_path)  # Change separator if different\n",
    "    new_file_path = file_path.replace(extension, '.parquet')\n",
    "    df.to_parquet(new_file_path, engine='pyarrow')"
   ]
  },
  {
   "cell_type": "code",
   "execution_count": 38,
   "id": "68410714",
   "metadata": {},
   "outputs": [
    {
     "name": "stdout",
     "output_type": "stream",
     "text": [
      "Encoding error with /Users/ernestolaval/Documents/nodeJS/github/datos_abiertos/scripts/../raw/minsal/deis/DEFUNCIONES_FUENTE_DEIS_1990_2021_CIFRAS_OFICIALES.csv, trying ISO-8859-1\n",
      "Converted DEFUNCIONES_FUENTE_DEIS_1990_2021_CIFRAS_OFICIALES.csv to Parquet\n"
     ]
    }
   ],
   "source": [
    "directory = path  # Set this to the path where your files are stored\n",
    "\n",
    "# Loop through each file in the directory\n",
    "for filename in os.listdir(directory):\n",
    "    if filename.endswith(extension):\n",
    "        file_path = os.path.join(directory, filename)\n",
    "        convert_txt_to_parquet(file_path)\n",
    "        print(f'Converted {filename} to Parquet')\n"
   ]
  },
  {
   "cell_type": "code",
   "execution_count": null,
   "id": "6937cec9",
   "metadata": {},
   "outputs": [],
   "source": []
  }
 ],
 "metadata": {
  "kernelspec": {
   "display_name": "Python 3 (ipykernel)",
   "language": "python",
   "name": "python3"
  },
  "language_info": {
   "codemirror_mode": {
    "name": "ipython",
    "version": 3
   },
   "file_extension": ".py",
   "mimetype": "text/x-python",
   "name": "python",
   "nbconvert_exporter": "python",
   "pygments_lexer": "ipython3",
   "version": "3.11.7"
  }
 },
 "nbformat": 4,
 "nbformat_minor": 5
}
